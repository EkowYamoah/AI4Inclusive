{
 "cells": [
  {
   "cell_type": "code",
   "execution_count": 1,
   "metadata": {},
   "outputs": [],
   "source": [
    "import json\n",
    "import csv\n",
    "import tweepy\n",
    "import re\n",
    "# from tweepy import streaming\n",
    "# from tweepy import StreamListener\n",
    "import pandas as pd"
   ]
  },
  {
   "cell_type": "code",
   "execution_count": 2,
   "metadata": {},
   "outputs": [],
   "source": [
    "# Authentication credentials\n",
    "bearer_token = \"AAAAAAAAAAAAAAAAAAAAAMam0AEAAAAAHbEAiRodJGQoGBnF4I03eYuryOQ%3DmPWirTJgurP5gsZJ4twHEIknyH9GVuThoiGV1DmOLPQkqvHeEF\"\n",
    "\n",
    "BEARER_TOKEN = \"AAAAAAAAAAAAAAAAAAAAAMam0AEAAAAAHbEAiRodJGQoGBnF4I03eYuryOQ%3DmPWirTJgurP5gsZJ4twHEIknyH9GVuThoiGV1DmOLPQkqvHeEF\"\n"
   ]
  },
  {
   "cell_type": "code",
   "execution_count": 3,
   "metadata": {},
   "outputs": [],
   "source": [
    "# Initialize API client\n",
    "client = tweepy.Client(bearer_token=bearer_token)\n",
    "\n"
   ]
  },
  {
   "cell_type": "code",
   "execution_count": 4,
   "metadata": {},
   "outputs": [],
   "source": [
    "# Sample query: Extract tweets on stigma in Ghana (excluding retweets)\n",
    "# query = \"stigma OR discrimination OR inclusion OR PwDs OR LGBTQ OR mental health lang:en GHANA:GH -is:retweet\"\n",
    "query = \"PwDs\"\n"
   ]
  },
  {
   "cell_type": "code",
   "execution_count": 6,
   "metadata": {
    "scrolled": true
   },
   "outputs": [
    {
     "name": "stdout",
     "output_type": "stream",
     "text": [
      "RT @UgandaEC: 2 days to go! Starting 25th April 2025, the Electoral Commission will display the National Voters Register and Registers for…\n",
      "RT @UgandaEC: 2 days to go! Starting 25th April 2025, the Electoral Commission will display the National Voters Register and Registers for…\n",
      "i didn’t attend awareness drives &amp; campaigns and advocate for PWDs for years only for these trolls in my qrts to gaslight me na whatever they said wasn’t an insult. kahit sinong may reading comprehension, alam na ginamit in a negative context yung sped students. https://t.co/Xkm70zXRDx\n",
      "🚦 Inclusive Roads, Safer Cities 🏙️\n",
      "\n",
      "When our streets are designed for everyone—walkers, bikers, bus riders, PWDs and drivers—we build cities that are safer, fairer, and more livable.\n",
      "\n",
      "At HipCity Innovation Centre, we keep advocating for transport systems that leave no one behind https://t.co/miJCmWTk8N\n",
      "In Kitui County, women and men including PWDs, religious leaders and CBOs leads took part in an end-of-project evaluation of an initiative focused on shifting gender norms by preventing gender-based violence (GBV)  and promoting women’s leadership. Implemented by CRAWN Trust and https://t.co/aiw5LK6sU7\n",
      "RT @shokunbi_yinka: Just another way to include  PWDs into the tax nest... @AkintundeAkanni @FalobiFunmi @Kemi_Yesufu @nrhjn @solazed\n",
      "RT @UgandaEC: 2 days to go! Starting 25th April 2025, the Electoral Commission will display the National Voters Register and Registers for…\n",
      "RT @PSF_Specialized: From April 22-24,2025, PSF SC, Pro-Femmes Twese Hamwe &amp; MINECOFIN are training 52 entrepreneurs including women,youth…\n",
      "From April 22-24,2025, PSF SC, Pro-Femmes Twese Hamwe &amp; MINECOFIN are training 52 entrepreneurs including women,youth &amp; PWDs on gender mainstreaming &amp; the National Investment Policy to boost inclusive investment opportunities! @PSF_Rwanda @ProfemmesTH @RwandaLabour @RwandaGender https://t.co/KKUn1Hj9z5\n",
      "RT @UgandaEC: 2 days to go! Starting 25th April 2025, the Electoral Commission will display the National Voters Register and Registers for…\n"
     ]
    }
   ],
   "source": [
    "# Fetch recent tweets\n",
    "tweets = client.search_recent_tweets(query=query, max_results=10)\n",
    "\n",
    "for tweet in tweets.data:\n",
    "    print(tweet.text)"
   ]
  },
  {
   "cell_type": "code",
   "execution_count": null,
   "metadata": {},
   "outputs": [],
   "source": []
  },
  {
   "cell_type": "code",
   "execution_count": 5,
   "metadata": {},
   "outputs": [],
   "source": [
    "# Sample query: Extract tweets on stigma in Ghana (excluding retweets)\n",
    "# query = \"stigma OR discrimination OR inclusion OR PwDs OR LGBTQ OR mental health lang:en -is:retweet\"\n",
    "\n",
    "query = \"#DisabilityRights\"\n"
   ]
  },
  {
   "cell_type": "code",
   "execution_count": 6,
   "metadata": {},
   "outputs": [
    {
     "name": "stdout",
     "output_type": "stream",
     "text": [
      "Disability #Discrimination  by @HMCTSgovuk\n",
      "is disheartening when courts fail to uphold disabled protections &amp; rights\n",
      "leading 2 unequal treatment &amp; access\n",
      "It's time 2 hold @MoJGovUK accountable &amp; ensure all individuals receive #justice\n",
      "#DisabilityRights #EndDiscrimination https://t.co/7eLI3LpQY7\n",
      "Disabled children were trapped for years in dangerous housing under New Zealand’s government system. Our urgent complaints were ignored. Officials destroyed evidence. Legal aid refused to help. This is systemic neglect. The world must see.\n",
      "#DisabilityRights #HumanRightsCrisis https://t.co/F6v6dKBzc2\n",
      "Empower yourself through self advocacy for adults with developmental disabilities. #SelfAdvocacy #DisabilityRights #MindShiftWorks\n",
      "Know More\n",
      "https://t.co/o7hwL8Ghom https://t.co/NotEm8Mq20\n",
      "RT @Humanvince: @narendramodi @AlboMP Disabled children were trapped for years in dangerous housing under New Zealand’s government system.…\n",
      "@narendramodi @AlboMP Disabled children were trapped for years in dangerous housing under New Zealand’s government system. Our urgent complaints were ignored. Officials destroyed evidence. Legal aid refused to help. This is systemic neglect. The world must see.\n",
      "#DisabilityRights #HumanRightsCrisis\n",
      "#ReformUK is no ally to #DisabledPeople -their agenda points to devastating cuts to #DisabilityBenefits. 👇🏼\n",
      "\n",
      "#UniversalCredit #WCA #PIP #Disability #MentalHealth #DisabilityRights #ADHD #Autism #MECFS #chronicillness #StopTheCuts #WelfareNotWarfare #DisabilityRebellion #UC https://t.co/Jcb9cRH6IC\n",
      "RT @thepenof: Disability #Discrimination  by @HMCTSgovuk\n",
      "is disheartening when courts fail to uphold disabled protections &amp; rights\n",
      "leading…\n",
      "Still no response from @etihad about the mobility scooter they damaged. Every day without it affects my independence and dignity. Silence is not an option. I’m escalating this publicly until it’s resolved. #DisabilityRights #Accountability #Etihad\n",
      "RT @SamYovan: #TellYourMP to stand against the #DisabilityBenefits cuts 👇🏼 \n",
      "\n",
      "#UC #PIP #WCA #MentalHealth #UK #ADHD #MECFS #Autism #CarersUK…\n",
      "RT @DisabilityRtsSC: 🔍 Did you know?\n",
      "We're SC’s only federally authorized Protection &amp; Advocacy (P&amp;A) org—with the power to monitor &amp; inves…\n"
     ]
    }
   ],
   "source": [
    "# Fetch recent tweets\n",
    "tweets1 = client.search_recent_tweets(query=query, max_results=10)\n",
    "\n",
    "for tweet in tweets1.data:\n",
    "    print(tweet.text)"
   ]
  },
  {
   "cell_type": "code",
   "execution_count": 10,
   "metadata": {},
   "outputs": [
    {
     "name": "stdout",
     "output_type": "stream",
     "text": [
      "RT @DisabilityRtsSC: 🔍 Did you know?\n",
      "We're SC’s only federally authorized Protection &amp; Advocacy (P&amp;A) org—with the power to monitor &amp; inves…\n"
     ]
    }
   ],
   "source": [
    "print(tweet.text)"
   ]
  },
  {
   "cell_type": "code",
   "execution_count": 11,
   "metadata": {},
   "outputs": [],
   "source": [
    "tweets = client.search_recent_tweets(query=query, max_results=10)\n",
    "\n",
    "# Create a DataFrame\n",
    "df = pd.DataFrame([(tweet.id, tweet.text) for tweet in tweets.data], columns=['id', 'text'])\n",
    "\n",
    "# Save the DataFrame to a CSV file\n",
    "df.to_csv('tweets.csv', index=False)\n",
    "\n"
   ]
  },
  {
   "cell_type": "code",
   "execution_count": 15,
   "metadata": {},
   "outputs": [
    {
     "name": "stdout",
     "output_type": "stream",
     "text": [
      "🌈💋 Bold, loud, and unapologetic — this tee says it all: Kiss whoever the f* you want. A vibrant celebration of love, pride, and freedom, it’s perfect for anyone who lives authentically and loves without limits.Wear it proud. 🏳️‍🌈💥\n",
      "#Pride #LGBTQ #LoveIsLove #QueerJoy #BeYourself https://t.co/d6ihoDfXOY\n",
      "RT @notedbubbly: Come sit with Daddy~ 😈🍆🐶\n",
      "\n",
      "#gay #kinky #gaynsfw #bwc #gaydaddy #gaybear #puppyplay #petplay #pupplay #gaypup #cum #cock #be…\n",
      "It's dangerous to go out alone. There's a very hungry imp on the hunt~ and she will find you &lt;3 #robyn #female #human #girl #devil #demon #art #sketch #doodle #trans #transgender #lgbtq #imp #artist #digital https://t.co/bxsZsJ19qp\n",
      "@Tightywhitieluv Adult Pixar films here we come!! We need something since the disastrous Snow White live action remake! #disney #SnowWhite #lgbtq #Florida\n",
      "RT @HUOMOS: #HUOMOS #LOVEISLOVE #GAY #LGBTQ #LGBTQIA \n",
      " De Aguscalientes, México.  \n",
      "@hilcorner69 🏳️‍🌈 https://t.co/EwtRmfSlVv\n",
      "Everything I’ve seen over the past few days has confirmed one thing to me you transphobic arseholes   just can’t get us out of your heads. It would be cute if it wasn’t so sickening. #LGBtq #trans #ProtectTransWoman\n",
      "RT @KCGayCouple: #kc #gay #kansascity #pride #lgbtq https://t.co/7sMMRb5SUq\n",
      "RT @Archerhotvid: Morning em, tắm rửa sạch sẽ rồi thì tự xử thôi 😜\n",
      "#gaysex #gay #LGBT #cock #Dick #slim #some #gayboy #pride #lgbtq #gayman…\n",
      "RT @loveandHrt: You can help ME, a black trans HIV+ immigrant in extreme poverty survive and gtfo to a blue state today. \n",
      "\n",
      "If you can’t con…\n",
      "RT @tcmassie: @holybullies If \"religious\" families don't want their kids to learn that #LGBTQ+ people exist, they can go to their own segre…\n"
     ]
    }
   ],
   "source": [
    "# Fetch recent tweets\n",
    "tweets = client.search_recent_tweets(query=query, max_results=10)\n",
    "\n",
    "for tweet in tweets.data:\n",
    "    print(tweet.text)"
   ]
  },
  {
   "cell_type": "code",
   "execution_count": 13,
   "metadata": {},
   "outputs": [],
   "source": [
    "query = '#Ableism'\n",
    "tweets = client.search_recent_tweets(query=query, max_results=30)\n",
    "\n",
    "# Create a DataFrame\n",
    "df = pd.DataFrame([(tweet.id, tweet.text) for tweet in tweets.data], columns=['id', 'text'])\n",
    "\n",
    "# Save the DataFrame to a CSV file\n",
    "df.to_csv('tweets_ableism.csv', index=False)\n",
    "\n"
   ]
  },
  {
   "cell_type": "markdown",
   "metadata": {},
   "source": [
    "<h2>Possible Queriees to focus on</h2>"
   ]
  },
  {
   "cell_type": "markdown",
   "metadata": {},
   "source": [
    "<ol>\n",
    "    <li>date = [2018-2020,2021-2023,2024-date]</li>\n",
    "    <li>locality = GHANA:GH </li>\n",
    "    <li>tweets = </li>\n",
    "    <li>retweets = </li>\n",
    "\n",
    "</ol>\n",
    "\n",
    "<h3>Identify Keywords, Hashtags, and Accounts</h3>\n",
    "\n",
    "<ul>\n",
    "<li>o\tHashtags: #DisabilityRights, #PWD, #Accessibility, #Ableism</li>\n",
    "<li>o\tPhrases: \"disabled people\", \"people with disabilities\", \"crip culture\"</li>\n",
    "<li>o\tAccounts: such as @INCLUSIONCA, @AccessibleGC</li>\n",
    "</ul>"
   ]
  },
  {
   "cell_type": "code",
   "execution_count": null,
   "metadata": {},
   "outputs": [],
   "source": []
  },
  {
   "cell_type": "code",
   "execution_count": null,
   "metadata": {},
   "outputs": [],
   "source": []
  },
  {
   "cell_type": "code",
   "execution_count": null,
   "metadata": {},
   "outputs": [],
   "source": []
  },
  {
   "cell_type": "code",
   "execution_count": null,
   "metadata": {},
   "outputs": [],
   "source": []
  },
  {
   "cell_type": "code",
   "execution_count": null,
   "metadata": {},
   "outputs": [],
   "source": []
  }
 ],
 "metadata": {
  "kernelspec": {
   "display_name": "Python 3 (ipykernel)",
   "language": "python",
   "name": "python3"
  },
  "language_info": {
   "codemirror_mode": {
    "name": "ipython",
    "version": 3
   },
   "file_extension": ".py",
   "mimetype": "text/x-python",
   "name": "python",
   "nbconvert_exporter": "python",
   "pygments_lexer": "ipython3",
   "version": "3.12.7"
  }
 },
 "nbformat": 4,
 "nbformat_minor": 4
}
