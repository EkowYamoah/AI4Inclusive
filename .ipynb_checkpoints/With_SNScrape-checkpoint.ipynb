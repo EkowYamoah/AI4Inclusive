{
 "cells": [
  {
   "cell_type": "code",
   "execution_count": 2,
   "id": "7c12194e-6166-4222-b4e9-4aa5633d338a",
   "metadata": {},
   "outputs": [],
   "source": [
    "import os\n",
    "import snscrape"
   ]
  },
  {
   "cell_type": "code",
   "execution_count": 12,
   "id": "7595c8f0-9974-477f-858b-4d91e6e821f5",
   "metadata": {},
   "outputs": [
    {
     "name": "stdout",
     "output_type": "stream",
     "text": [
      "Posts from 'https://www.facebook.com/mcgtemadiocese' have been saved to 'posts2.txt'.\n"
     ]
    }
   ],
   "source": [
    "\n",
    "\n",
    "# Define the Facebook page URL - we will be using NSMQ Page for this testing\n",
    "# page_url = \"https://www.facebook.com/NSMQGhana\"\n",
    "page_url = \"https://www.facebook.com/mcgtemadiocese\"\n",
    "\n",
    "# Execute the snscrape command to retrieve posts\n",
    "os.system(f\"snscrape facebook-page {page_url} > posts2.txt\")\n",
    "\n",
    "# Posts are saved in the 'posts.txt' file\n",
    "print(f\"Posts from '{page_url}' have been saved to 'posts2.txt'.\")"
   ]
  },
  {
   "cell_type": "code",
   "execution_count": 10,
   "id": "ebc71f09-4f0b-40d6-9f94-47f3f689fd3a",
   "metadata": {},
   "outputs": [
    {
     "name": "stderr",
     "output_type": "stream",
     "text": [
      "Traceback (most recent call last):\n",
      "  File \"<frozen runpy>\", line 198, in _run_module_as_main\n",
      "  File \"<frozen runpy>\", line 88, in _run_code\n",
      "  File \"C:\\Users\\yamoa\\anaconda3\\Scripts\\snscrape.exe\\__main__.py\", line 7, in <module>\n",
      "  File \"C:\\Users\\yamoa\\anaconda3\\Lib\\site-packages\\snscrape\\_cli.py\", line 308, in main\n",
      "    args = parse_args()\n",
      "           ^^^^^^^^^^^^\n",
      "  File \"C:\\Users\\yamoa\\anaconda3\\Lib\\site-packages\\snscrape\\_cli.py\", line 233, in parse_args\n",
      "    import snscrape.modules\n",
      "  File \"C:\\Users\\yamoa\\anaconda3\\Lib\\site-packages\\snscrape\\modules\\__init__.py\", line 17, in <module>\n",
      "    _import_modules()\n",
      "  File \"C:\\Users\\yamoa\\anaconda3\\Lib\\site-packages\\snscrape\\modules\\__init__.py\", line 13, in _import_modules\n",
      "    module = importer.find_module(moduleName).load_module(moduleName)\n",
      "             ^^^^^^^^^^^^^^^^^^^^\n",
      "AttributeError: 'FileFinder' object has no attribute 'find_module'\n"
     ]
    }
   ],
   "source": [
    "! snscrape facebook-page \"https://www.facebook.com/NSMQGhana\" --since 2023-01-01 --until 2023-12-31 > posts1.txt"
   ]
  },
  {
   "cell_type": "code",
   "execution_count": null,
   "id": "ffb49538-7b36-4b1d-b45d-6ef88aef0027",
   "metadata": {},
   "outputs": [],
   "source": []
  },
  {
   "cell_type": "code",
   "execution_count": 19,
   "id": "b2250c03-ce34-4310-b35f-86a246f588da",
   "metadata": {},
   "outputs": [],
   "source": [
    "import snscrape  as sntwitter #.modules.twitter as sntwitter\n",
    "import pandas as pd"
   ]
  },
  {
   "cell_type": "code",
   "execution_count": 20,
   "id": "8bc901c0-5b11-47e8-9325-a00096837fa0",
   "metadata": {},
   "outputs": [],
   "source": [
    "query=\"(from:NSMQGhana) until:2020-06-10 since:2018-01-01\"\n",
    "\n",
    "limit=0\n",
    "data=[]"
   ]
  },
  {
   "cell_type": "code",
   "execution_count": 22,
   "id": "a989c138-3822-4093-986e-7f1148f071c2",
   "metadata": {},
   "outputs": [
    {
     "ename": "AttributeError",
     "evalue": "module 'snscrape' has no attribute 'TwitterSearchScraper'",
     "output_type": "error",
     "traceback": [
      "\u001b[1;31m---------------------------------------------------------------------------\u001b[0m",
      "\u001b[1;31mAttributeError\u001b[0m                            Traceback (most recent call last)",
      "Cell \u001b[1;32mIn[22], line 28\u001b[0m\n\u001b[0;32m     24\u001b[0m     df\u001b[38;5;241m.\u001b[39mto_excel(file_name,index\u001b[38;5;241m=\u001b[39mIndex)\n\u001b[0;32m     25\u001b[0m     \u001b[38;5;28mprint\u001b[39m(\u001b[38;5;124m\"\u001b[39m\u001b[38;5;124mdone!!\u001b[39m\u001b[38;5;124m\"\u001b[39m)\n\u001b[1;32m---> 28\u001b[0m \u001b[43mdata_frame\u001b[49m\u001b[43m(\u001b[49m\u001b[43m)\u001b[49m\n\u001b[0;32m     30\u001b[0m save_excel(data,\u001b[38;5;124m\"\u001b[39m\u001b[38;5;124mtweets.xlsx\u001b[39m\u001b[38;5;124m\"\u001b[39m)\n",
      "Cell \u001b[1;32mIn[22], line 3\u001b[0m, in \u001b[0;36mdata_frame\u001b[1;34m(limit)\u001b[0m\n\u001b[0;32m      2\u001b[0m \u001b[38;5;28;01mdef\u001b[39;00m \u001b[38;5;21mdata_frame\u001b[39m(limit\u001b[38;5;241m=\u001b[39m\u001b[38;5;241m0\u001b[39m):\n\u001b[1;32m----> 3\u001b[0m     \u001b[38;5;28;01mfor\u001b[39;00m tweet \u001b[38;5;129;01min\u001b[39;00m \u001b[43msntwitter\u001b[49m\u001b[38;5;241;43m.\u001b[39;49m\u001b[43mTwitterSearchScraper\u001b[49m(query)\u001b[38;5;241m.\u001b[39mget_items():\n\u001b[0;32m      5\u001b[0m         dataframe\u001b[38;5;241m=\u001b[39m{}\n\u001b[0;32m      6\u001b[0m         limit\u001b[38;5;241m=\u001b[39mlimit\u001b[38;5;241m+\u001b[39m\u001b[38;5;241m1\u001b[39m\n",
      "\u001b[1;31mAttributeError\u001b[0m: module 'snscrape' has no attribute 'TwitterSearchScraper'"
     ]
    }
   ],
   "source": [
    "\n",
    "\n",
    "# function to gather twitter data \n",
    "def data_frame(limit=0):\n",
    "    for tweet in sntwitter.TwitterSearchScraper(query).get_items():\n",
    "\n",
    "        dataframe={}\n",
    "        limit=limit+1\n",
    "\n",
    "        dataframe['Serial No']=limit\n",
    "        dataframe['User']=str(tweet.user)[20:]\n",
    "        dataframe['User Account']=str(tweet.user)\n",
    "        dataframe['Content']=tweet.content\n",
    "        dataframe['Url']=tweet.url\n",
    "        dataframe['Date']=str(tweet.date)[:10]\n",
    "        dataframe['Time']=str(tweet.date)[11:19]\n",
    "        dataframe['Time Zone']=str(tweet.date)[19:]\n",
    "\n",
    "        if (limit)>5000: # change limit as per you requirements\n",
    "            break\n",
    "        data.append(dataframe)\n",
    "\n",
    "# function to save tweets in excel file \n",
    "def save_excel(data,file_name=\"tweets.xlsx\",Index=False):\n",
    "    df=pd.DataFrame(data)\n",
    "    df.to_excel(file_name,index=Index)\n",
    "    print(\"done!!\")\n",
    "\n",
    "\n",
    "data_frame()\n",
    "\n",
    "save_excel(data,\"tweets.xlsx\")\n"
   ]
  },
  {
   "cell_type": "code",
   "execution_count": 24,
   "id": "5d8433fd-c432-43dc-810b-e535887576b6",
   "metadata": {},
   "outputs": [
    {
     "ename": "AttributeError",
     "evalue": "'FileFinder' object has no attribute 'find_module'",
     "output_type": "error",
     "traceback": [
      "\u001b[1;31m---------------------------------------------------------------------------\u001b[0m",
      "\u001b[1;31mAttributeError\u001b[0m                            Traceback (most recent call last)",
      "Cell \u001b[1;32mIn[24], line 1\u001b[0m\n\u001b[1;32m----> 1\u001b[0m \u001b[38;5;28;01mimport\u001b[39;00m \u001b[38;5;21;01msnscrape\u001b[39;00m\u001b[38;5;21;01m.\u001b[39;00m\u001b[38;5;21;01mmodules\u001b[39;00m\u001b[38;5;21;01m.\u001b[39;00m\u001b[38;5;21;01mtwitter\u001b[39;00m \u001b[38;5;28;01mas\u001b[39;00m \u001b[38;5;21;01msntwitter\u001b[39;00m\n\u001b[0;32m      2\u001b[0m \u001b[38;5;28;01mimport\u001b[39;00m \u001b[38;5;21;01mpandas\u001b[39;00m \u001b[38;5;28;01mas\u001b[39;00m \u001b[38;5;21;01mpd\u001b[39;00m\n\u001b[0;32m      4\u001b[0m query \u001b[38;5;241m=\u001b[39m \u001b[38;5;124m\"\u001b[39m\u001b[38;5;124mmental health Ghana\u001b[39m\u001b[38;5;124m\"\u001b[39m\n",
      "File \u001b[1;32m~\\anaconda3\\Lib\\site-packages\\snscrape\\modules\\__init__.py:17\u001b[0m\n\u001b[0;32m     13\u001b[0m \t\tmodule \u001b[38;5;241m=\u001b[39m importer\u001b[38;5;241m.\u001b[39mfind_module(moduleName)\u001b[38;5;241m.\u001b[39mload_module(moduleName)\n\u001b[0;32m     14\u001b[0m \t\t\u001b[38;5;28mglobals\u001b[39m()[moduleNameWithoutPrefix] \u001b[38;5;241m=\u001b[39m module\n\u001b[1;32m---> 17\u001b[0m \u001b[43m_import_modules\u001b[49m\u001b[43m(\u001b[49m\u001b[43m)\u001b[49m\n",
      "File \u001b[1;32m~\\anaconda3\\Lib\\site-packages\\snscrape\\modules\\__init__.py:13\u001b[0m, in \u001b[0;36m_import_modules\u001b[1;34m()\u001b[0m\n\u001b[0;32m     11\u001b[0m moduleNameWithoutPrefix \u001b[38;5;241m=\u001b[39m moduleName[prefixLen:]\n\u001b[0;32m     12\u001b[0m __all__\u001b[38;5;241m.\u001b[39mappend(moduleNameWithoutPrefix)\n\u001b[1;32m---> 13\u001b[0m module \u001b[38;5;241m=\u001b[39m \u001b[43mimporter\u001b[49m\u001b[38;5;241;43m.\u001b[39;49m\u001b[43mfind_module\u001b[49m(moduleName)\u001b[38;5;241m.\u001b[39mload_module(moduleName)\n\u001b[0;32m     14\u001b[0m \u001b[38;5;28mglobals\u001b[39m()[moduleNameWithoutPrefix] \u001b[38;5;241m=\u001b[39m module\n",
      "\u001b[1;31mAttributeError\u001b[0m: 'FileFinder' object has no attribute 'find_module'"
     ]
    }
   ],
   "source": [
    "import snscrape.modules.twitter as sntwitter\n",
    "import pandas as pd\n",
    "\n",
    "query = \"mental health Ghana\"\n",
    "limit = 5000\n",
    "tweets = []\n",
    "\n",
    "for i, tweet in enumerate(sntwitter.TwitterSearchScraper(query).get_items()):\n",
    "    if i >= limit:\n",
    "        break\n",
    "    tweets.append({\n",
    "        \"Serial No\": i + 1,\n",
    "        \"User\": tweet.user.username,\n",
    "        \"User Account\": tweet.user.displayname,\n",
    "        \"Content\": tweet.content,\n",
    "        \"Url\": tweet.url,\n",
    "        \"Date\": tweet.date.date(),\n",
    "        \"Time\": tweet.date.time(),\n",
    "        \"Time Zone\": tweet.date.tzinfo\n",
    "    })\n",
    "\n",
    "df = pd.DataFrame(tweets)\n",
    "df.to_excel(\"tweets.xlsx\", index=False)\n",
    "print(\"✅ Done! Tweets saved to 'tweets.xlsx'\")\n"
   ]
  },
  {
   "cell_type": "code",
   "execution_count": null,
   "id": "ab743582-3a10-4d03-9da1-83e08a6333e4",
   "metadata": {},
   "outputs": [],
   "source": []
  },
  {
   "cell_type": "code",
   "execution_count": null,
   "id": "f82b1651-f521-4721-b6fa-5ce39bd8a55e",
   "metadata": {},
   "outputs": [],
   "source": []
  },
  {
   "cell_type": "code",
   "execution_count": null,
   "id": "209e8f18-a65b-4909-af47-7b224747330a",
   "metadata": {},
   "outputs": [],
   "source": []
  }
 ],
 "metadata": {
  "kernelspec": {
   "display_name": "Python 3 (ipykernel)",
   "language": "python",
   "name": "python3"
  },
  "language_info": {
   "codemirror_mode": {
    "name": "ipython",
    "version": 3
   },
   "file_extension": ".py",
   "mimetype": "text/x-python",
   "name": "python",
   "nbconvert_exporter": "python",
   "pygments_lexer": "ipython3",
   "version": "3.12.7"
  }
 },
 "nbformat": 4,
 "nbformat_minor": 5
}
